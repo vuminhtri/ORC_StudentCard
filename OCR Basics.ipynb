{
 "cells": [
  {
   "cell_type": "markdown",
   "metadata": {},
   "source": [
    "## 0. Install and Import Dependencies"
   ]
  },
  {
   "cell_type": "code",
   "execution_count": 1,
   "metadata": {},
   "outputs": [],
   "source": [
    "import easyocr\n",
    "import cv2\n",
    "from matplotlib import pyplot as plt\n",
    "import numpy as np\n",
    "import os"
   ]
  },
  {
   "cell_type": "markdown",
   "metadata": {},
   "source": [
    "## 1. Preprocessing\n"
   ]
  },
  {
   "cell_type": "markdown",
   "metadata": {},
   "source": [
    "1.1. Histogram Equalization"
   ]
  },
  {
   "cell_type": "markdown",
   "metadata": {},
   "source": [
    "## 2. Read in images or video"
   ]
  },
  {
   "cell_type": "markdown",
   "metadata": {},
   "source": [
    "1.1 - Test Card Student"
   ]
  },
  {
   "cell_type": "code",
   "execution_count": 2,
   "metadata": {},
   "outputs": [
    {
     "name": "stderr",
     "output_type": "stream",
     "text": [
      "CUDA not available - defaulting to CPU. Note: This module is much faster with a GPU.\n"
     ]
    }
   ],
   "source": [
    "# Read Content from PTIT Card\n",
    "reader = easyocr.Reader(['vi'])\n",
    "IMAGE_PATH = \"hog_result.png\"\n",
    "result = reader.readtext(IMAGE_PATH)\n"
   ]
  },
  {
   "cell_type": "code",
   "execution_count": 3,
   "metadata": {},
   "outputs": [
    {
     "name": "stdout",
     "output_type": "stream",
     "text": [
      "[[1304, 218], [1962, 218], [1962, 392], [1304, 392]]\n",
      "HOC VIÊn\n",
      "0.20657568628269565\n",
      "[[318, 390], [645, 390], [645, 595], [318, 595]]\n",
      "@t\n",
      "0.31036511162234176\n",
      "[[830, 369], [2432, 369], [2432, 521], [830, 521]]\n",
      "Cong NGHe BUUCHinHVIeN IHong\n",
      "0.051277908026260484\n",
      "[[1101, 572], [2163, 572], [2163, 765], [1101, 765]]\n",
      "THẺ SINH VIÊN\n",
      "0.7760682230341297\n",
      "[[850, 850], [1268, 850], [1268, 954], [850, 954]]\n",
      "Ho và ten:\n",
      "0.4302373560227024\n",
      "[[1311, 814], [2294, 814], [2294, 970], [1311, 970]]\n",
      "Nguyen Honng Duong\n",
      "0.4147996085703807\n",
      "[[855, 970], [1290, 970], [1290, 1083], [855, 1083]]\n",
      "Sinh ngày:\n",
      "0.9055924668348422\n",
      "[[1319, 950], [1780, 950], [1780, 1062], [1319, 1062]]\n",
      "2102/2001\n",
      "0.8910662741428469\n",
      "[[857, 1068], [1727, 1068], [1727, 1205], [857, 1205]]\n",
      "Hộ khdu TT:Ei_ Mml\n",
      "0.010863287832297971\n",
      "[[857, 1207], [1637, 1207], [1637, 1331], [857, 1331]]\n",
      "Lop: Di9CONo9 @\n",
      "0.03668466771840335\n",
      "[[1745, 1194], [2470, 1194], [2470, 1306], [1745, 1306]]\n",
      "He: Belhocchimhqy\n",
      "0.16227938530282918\n",
      "[[859, 1326], [1412, 1326], [1412, 1458], [859, 1458]]\n",
      "Ngành: CNI\n",
      "0.38049840461834034\n",
      "[[1747, 1311], [2475, 1311], [2475, 1421], [1747, 1421]]\n",
      "Khóa: 2019 -2024\n",
      "0.6221388049843113\n",
      "[[379, 1497], [615, 1497], [615, 1581], [379, 1581]]\n",
      "Mã SV\n",
      "0.9809090339719558\n",
      "[[218, 1590], [803, 1590], [803, 1698], [218, 1698]]\n",
      "Bi9dCCN153\n",
      "0.20657033181794354\n"
     ]
    }
   ],
   "source": [
    "# Tọa độ, Nội dung, Xác suất\n",
    "for line in result:\n",
    "    for item in line:\n",
    "        print(item)"
   ]
  },
  {
   "cell_type": "code",
   "execution_count": 4,
   "metadata": {},
   "outputs": [
    {
     "ename": "UnicodeEncodeError",
     "evalue": "'charmap' codec can't encode character '\\u1eba' in position 57: character maps to <undefined>",
     "output_type": "error",
     "traceback": [
      "\u001b[1;31m---------------------------------------------------------------------------\u001b[0m",
      "\u001b[1;31mUnicodeEncodeError\u001b[0m                        Traceback (most recent call last)",
      "Cell \u001b[1;32mIn[4], line 9\u001b[0m\n\u001b[0;32m      6\u001b[0m write \u001b[39m=\u001b[39m csv\u001b[39m.\u001b[39mwriter(file)\n\u001b[0;32m      7\u001b[0m \u001b[39m# for line in result:\u001b[39;00m\n\u001b[0;32m      8\u001b[0m \u001b[39m#     write.writerow(list(line))\u001b[39;00m\n\u001b[1;32m----> 9\u001b[0m write\u001b[39m.\u001b[39;49mwriterows(result)\n",
      "File \u001b[1;32mc:\\Users\\kunbo\\AppData\\Local\\Programs\\Python\\Python38\\lib\\encodings\\cp1252.py:19\u001b[0m, in \u001b[0;36mIncrementalEncoder.encode\u001b[1;34m(self, input, final)\u001b[0m\n\u001b[0;32m     18\u001b[0m \u001b[39mdef\u001b[39;00m \u001b[39mencode\u001b[39m(\u001b[39mself\u001b[39m, \u001b[39minput\u001b[39m, final\u001b[39m=\u001b[39m\u001b[39mFalse\u001b[39;00m):\n\u001b[1;32m---> 19\u001b[0m     \u001b[39mreturn\u001b[39;00m codecs\u001b[39m.\u001b[39;49mcharmap_encode(\u001b[39minput\u001b[39;49m,\u001b[39mself\u001b[39;49m\u001b[39m.\u001b[39;49merrors,encoding_table)[\u001b[39m0\u001b[39m]\n",
      "\u001b[1;31mUnicodeEncodeError\u001b[0m: 'charmap' codec can't encode character '\\u1eba' in position 57: character maps to <undefined>"
     ]
    }
   ],
   "source": [
    "import csv\n",
    "# opening the csv file in 'a+' mode\n",
    "file = open('results2.csv', 'a+', newline ='')\n",
    "\n",
    "with file:\n",
    "    write = csv.writer(file)\n",
    "    # for line in result:\n",
    "    #     write.writerow(list(line))\n",
    "    write.writerows(result)"
   ]
  },
  {
   "cell_type": "code",
   "execution_count": null,
   "metadata": {},
   "outputs": [
    {
     "name": "stdout",
     "output_type": "stream",
     "text": [
      "HỌC VIỆN\n",
      "CÔNG NGHỆ BUU CHÍNH VIÉN THÔNG\n",
      "@\n",
      "THẺ SINH VIÊN\n",
      "Họ và tên:\n",
      "Nguyễn Hoàng Dương\n",
      "Sinh ngày:\n",
      "21/02/2001\n",
      "Hộ khẩu TT: Béc Ninh\n",
      "Lớp: DI9COCNO9-B\n",
      "Hệ: Đaihoc chinhquy\n",
      "Ngành: CNTT\n",
      "Khóa: 2019 - 2024\n",
      "Mã SV\n",
      "Bi9DCCN153\n"
     ]
    }
   ],
   "source": [
    "# Print content \n",
    "for line in result:\n",
    "        print(line[1])"
   ]
  },
  {
   "cell_type": "markdown",
   "metadata": {},
   "source": [
    "1.2 - Try with small image"
   ]
  },
  {
   "cell_type": "code",
   "execution_count": null,
   "metadata": {},
   "outputs": [],
   "source": [
    "#Try diff example\n",
    "IMAGE_PATH_SMALL = \"assets/img/studentCard_small.jpg\"\n",
    "result_small = reader.readtext(IMAGE_PATH_SMALL)"
   ]
  },
  {
   "cell_type": "code",
   "execution_count": null,
   "metadata": {},
   "outputs": [
    {
     "name": "stdout",
     "output_type": "stream",
     "text": [
      "[[1203, 1086], [1498, 1086], [1498, 1165], [1203, 1165]]\n",
      "HQC VIỆN\n",
      "0.590854944314224\n",
      "[[878, 1160], [910, 1160], [910, 1200], [878, 1200]]\n",
      "1\n",
      "0.6551346673970784\n",
      "[[996, 1156], [1706, 1156], [1706, 1213], [996, 1213]]\n",
      "CONG NGHỆ BUU CHÍNH VIÉN THONG\n",
      "0.4948037341154508\n",
      "[[1113, 1233], [1584, 1233], [1584, 1320], [1113, 1320]]\n",
      "THẺ SINH VIÊN\n",
      "0.9912536957211014\n",
      "[[996, 1352], [1184, 1352], [1184, 1400], [996, 1400]]\n",
      "Ho và ten:\n",
      "0.6727752156500987\n",
      "[[1199, 1345], [1644, 1345], [1644, 1413], [1199, 1413]]\n",
      "Nguyen Hoang Dưong\n",
      "0.3194232091219707\n",
      "[[994, 1405], [1409, 1405], [1409, 1460], [994, 1460]]\n",
      "Sinh ngày:   21/02/2001\n",
      "0.4516163493575577\n",
      "[[994, 1458], [1384, 1458], [1384, 1510], [994, 1510]]\n",
      "Hộ khâu TT: Bfc Ninh\n",
      "0.3217322670032198\n",
      "[[992, 1518], [1342, 1518], [1342, 1570], [992, 1570]]\n",
      "Lớp: Di9COCNOO-0\n",
      "0.18995444899011643\n",
      "[[1387, 1519], [1725, 1519], [1725, 1582], [1387, 1582]]\n",
      "He: Dalhoc chinhqu\n",
      "0.46413045177884654\n",
      "[[992, 1572], [1237, 1572], [1237, 1626], [992, 1626]]\n",
      "Ngành: CNTT\n",
      "0.9067503661065791\n",
      "[[1388, 1578], [1600, 1578], [1600, 1626], [1388, 1626]]\n",
      "Khóa: 2019\n",
      "0.8850562600340631\n",
      "[[1599, 1597], [1621, 1597], [1621, 1617], [1599, 1617]]\n",
      "0\n",
      "0.10762883950619884\n",
      "[[1620, 1580], [1726, 1580], [1726, 1628], [1620, 1628]]\n",
      "2024\n",
      "0.9996328353881836\n",
      "[[773, 1637], [883, 1637], [883, 1677], [773, 1677]]\n",
      "Ma SV\n",
      "0.43029368749832747\n",
      "[[698, 1677], [1031, 1677], [1031, 1737], [698, 1737]]\n",
      "B19DCCN1S3|l\n",
      "0.09181653767586599\n",
      "[[794.8492070888625, 1143.095242533175], [887.3557156915032, 1156.0665927577677], [877.1507929111375, 1216.904757466825], [783.6442843084968, 1203.9334072422323]]\n",
      "PY\n",
      "0.6217101838214216\n"
     ]
    }
   ],
   "source": [
    "# Tọa độ, Nội dung, Xác suất\n",
    "for line in result_small:\n",
    "    for item in line:\n",
    "        print(item)"
   ]
  },
  {
   "cell_type": "markdown",
   "metadata": {},
   "source": [
    "Comment: Với chất lượng ảnh thấp hơn & nhỏ hơn, độ chính xác giảm."
   ]
  }
 ],
 "metadata": {
  "kernelspec": {
   "display_name": "Python 3.8.10 64-bit",
   "language": "python",
   "name": "python3"
  },
  "language_info": {
   "codemirror_mode": {
    "name": "ipython",
    "version": 3
   },
   "file_extension": ".py",
   "mimetype": "text/x-python",
   "name": "python",
   "nbconvert_exporter": "python",
   "pygments_lexer": "ipython3",
   "version": "3.8.10"
  },
  "vscode": {
   "interpreter": {
    "hash": "18d85583f788902d5cd0b940e6ff8272cb7521f14724ac7286f927ed4e1d20dc"
   }
  }
 },
 "nbformat": 4,
 "nbformat_minor": 2
}
